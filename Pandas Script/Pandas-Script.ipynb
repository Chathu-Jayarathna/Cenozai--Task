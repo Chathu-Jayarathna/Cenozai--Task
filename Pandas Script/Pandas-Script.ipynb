{
 "cells": [
  {
   "cell_type": "code",
   "execution_count": 1,
   "id": "69989213",
   "metadata": {},
   "outputs": [],
   "source": [
    "import pandas as pd"
   ]
  },
  {
   "cell_type": "code",
   "execution_count": 2,
   "id": "41d1d03f",
   "metadata": {},
   "outputs": [],
   "source": [
    "excel_file_path = \"data.xlsx\""
   ]
  },
  {
   "cell_type": "code",
   "execution_count": 3,
   "id": "a4334a05",
   "metadata": {},
   "outputs": [],
   "source": [
    "expected_headers = [\"Package\", \"TagNo\", \"EquipmentNo\", \"Model\", \"Price\"]"
   ]
  },
  {
   "cell_type": "code",
   "execution_count": 4,
   "id": "7f7eac6a",
   "metadata": {},
   "outputs": [],
   "source": [
    "try:\n",
    "    df = pd.read_excel(excel_file_path, engine='openpyxl')\n",
    "except Exception as e:\n",
    "    print(\"Error:\", e)"
   ]
  },
  {
   "cell_type": "code",
   "execution_count": 5,
   "id": "b1914dd1",
   "metadata": {},
   "outputs": [
    {
     "name": "stdout",
     "output_type": "stream",
     "text": [
      "Headers are valid.\n"
     ]
    }
   ],
   "source": [
    "if list(df.columns) != expected_headers:\n",
    "    print(\"Error: Invalid headers.\")\n",
    "    print(\"Expected headers:\", expected_headers)\n",
    "    print(\"Actual headers:\", list(df.columns))\n",
    "else:\n",
    "    print(\"Headers are valid.\")"
   ]
  },
  {
   "cell_type": "code",
   "execution_count": 7,
   "id": "d02d2f88",
   "metadata": {},
   "outputs": [
    {
     "name": "stdout",
     "output_type": "stream",
     "text": [
      "All data is in string format.\n"
     ]
    }
   ],
   "source": [
    "data_types = df.dtypes\n",
    "non_string_columns = data_types[data_types != 'object']\n",
    "\n",
    "if len(non_string_columns) == 0:\n",
    "    print(\"All data is in string format.\")\n",
    "else:\n",
    "    print(\"Error: Non-string data found in columns:\", list(non_string_columns.index))\n"
   ]
  },
  {
   "cell_type": "code",
   "execution_count": null,
   "id": "43025dd8",
   "metadata": {},
   "outputs": [],
   "source": []
  }
 ],
 "metadata": {
  "kernelspec": {
   "display_name": "Python 3 (ipykernel)",
   "language": "python",
   "name": "python3"
  },
  "language_info": {
   "codemirror_mode": {
    "name": "ipython",
    "version": 3
   },
   "file_extension": ".py",
   "mimetype": "text/x-python",
   "name": "python",
   "nbconvert_exporter": "python",
   "pygments_lexer": "ipython3",
   "version": "3.11.4"
  }
 },
 "nbformat": 4,
 "nbformat_minor": 5
}
